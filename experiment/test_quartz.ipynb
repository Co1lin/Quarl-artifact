{
 "cells": [
  {
   "cell_type": "code",
   "execution_count": 1,
   "metadata": {},
   "outputs": [],
   "source": [
    "import quartz"
   ]
  },
  {
   "cell_type": "code",
   "execution_count": 2,
   "metadata": {},
   "outputs": [
    {
     "data": {
      "text/plain": [
       "1"
      ]
     },
     "execution_count": 2,
     "metadata": {},
     "output_type": "execute_result"
    }
   ],
   "source": [
    "quartz_context = quartz.QuartzContext([0], '../bfs_verified_simplified.json')\n",
    "quartz_context.get_xfers()\n",
    "quartz_context.num_xfers"
   ]
  },
  {
   "cell_type": "code",
   "execution_count": 3,
   "metadata": {},
   "outputs": [],
   "source": [
    "parser = quartz.PyQASMParser(quartz_context)"
   ]
  },
  {
   "cell_type": "code",
   "execution_count": 4,
   "metadata": {},
   "outputs": [
    {
     "data": {
      "text/plain": [
       "(1, 2)"
      ]
     },
     "execution_count": 4,
     "metadata": {},
     "output_type": "execute_result"
    },
    {
     "name": "stdout",
     "output_type": "stream",
     "text": [
      "OPENQASM 2.0\n",
      "include \"qelib1.inc\"\n",
      "qreg q[1]\n",
      "h q[0]\n",
      "h q[0]\n"
     ]
    }
   ],
   "source": [
    "my_dag = quartz.PyDAG()\n",
    "if not parser.load_qasm(\"../circuit/example-circuits/h_h.qasm\", my_dag):\n",
    "    print(\"parser failed\")\n",
    "\n",
    "my_dag.num_qubits, my_dag.num_gates"
   ]
  },
  {
   "cell_type": "code",
   "execution_count": 5,
   "metadata": {},
   "outputs": [],
   "source": [
    "my_graph = quartz.PyGraph(quartz_context, my_dag)"
   ]
  },
  {
   "cell_type": "code",
   "execution_count": 6,
   "metadata": {},
   "outputs": [
    {
     "name": "stdout",
     "output_type": "stream",
     "text": [
      "2\n",
      "16384\n",
      "16385\n",
      "2\n",
      "16384\n",
      "16385\n"
     ]
    },
    {
     "data": {
      "text/plain": [
       "[<quartz.core.PyNode at 0x7ff67d4fc8d0>,\n",
       " <quartz.core.PyNode at 0x7ff67d4fc990>]"
      ]
     },
     "execution_count": 6,
     "metadata": {},
     "output_type": "execute_result"
    }
   ],
   "source": [
    "all_nodes = my_graph.all_nodes()\n",
    "all_nodes = my_graph.all_nodes()\n",
    "all_nodes"
   ]
  },
  {
   "cell_type": "code",
   "execution_count": 7,
   "metadata": {},
   "outputs": [
    {
     "data": {
      "text/plain": [
       "0"
      ]
     },
     "execution_count": 7,
     "metadata": {},
     "output_type": "execute_result"
    }
   ],
   "source": [
    "all_nodes[0].gate_tp"
   ]
  },
  {
   "cell_type": "code",
   "execution_count": 8,
   "metadata": {},
   "outputs": [
    {
     "name": "stdout",
     "output_type": "stream",
     "text": [
      "_xfer_appliable\n",
      "[0]\n",
      "[]\n"
     ]
    }
   ],
   "source": [
    "for node in all_nodes:\n",
    "    print(my_graph.available_xfers(quartz_context, node, \"int\"))"
   ]
  },
  {
   "cell_type": "code",
   "execution_count": 11,
   "metadata": {},
   "outputs": [
    {
     "name": "stdout",
     "output_type": "stream",
     "text": [
      "0\n"
     ]
    },
    {
     "data": {
      "text/plain": [
       "[]"
      ]
     },
     "execution_count": 11,
     "metadata": {},
     "output_type": "execute_result"
    }
   ],
   "source": [
    "new_graph = my_graph.apply_xfer(quartz_context, quartz_context.get_xfer_from_id(0), all_nodes[0])\n",
    "new_graph.all_nodes()"
   ]
  }
 ],
 "metadata": {
  "interpreter": {
   "hash": "5cf248733d409ee2d3396b673fb667db69ceca2c5535c00dab670ead284bfb2d"
  },
  "kernelspec": {
   "display_name": "Python 3.8.11 64-bit ('quantum': conda)",
   "language": "python",
   "name": "python3"
  },
  "language_info": {
   "codemirror_mode": {
    "name": "ipython",
    "version": 3
   },
   "file_extension": ".py",
   "mimetype": "text/x-python",
   "name": "python",
   "nbconvert_exporter": "python",
   "pygments_lexer": "ipython3",
   "version": "3.8.11"
  },
  "orig_nbformat": 4
 },
 "nbformat": 4,
 "nbformat_minor": 2
}
