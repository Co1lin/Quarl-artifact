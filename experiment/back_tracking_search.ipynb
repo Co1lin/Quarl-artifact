{
 "cells": [
  {
   "cell_type": "code",
   "execution_count": 2,
   "metadata": {},
   "outputs": [
    {
     "name": "stderr",
     "output_type": "stream",
     "text": [
      "Using backend: pytorch\n",
      "[06:20:30] /opt/dgl/src/runtime/tensordispatch.cc:43: TensorDispatcher: dlopen failed: /home/zikunli/anaconda3/envs/quantum/lib/python3.9/site-packages/dgl/tensoradapter/pytorch/libtensoradapter_pytorch_1.10.2.so: cannot open shared object file: No such file or directory\n"
     ]
    }
   ],
   "source": [
    "# A warning message from DGL will appear which seems to be related to an open issue in the DGL library, \n",
    "# it won't hurt the execution of the program, please ignore it.\n",
    "import quartz"
   ]
  },
  {
   "cell_type": "code",
   "execution_count": 3,
   "metadata": {},
   "outputs": [],
   "source": [
    "quartz_context = quartz.QuartzContext(gate_set=['h', 'cx', 't', 'tdg'], filename='../bfs_verified_simplified.json')\n",
    "parser = quartz.PyQASMParser(context=quartz_context)\n",
    "my_dag = parser.load_qasm(filename=\"barenco_tof_3_opt_path/subst_history_39.qasm\")\n",
    "init_graph = quartz.PyGraph(context=quartz_context, dag=my_dag)"
   ]
  },
  {
   "cell_type": "code",
   "execution_count": 4,
   "metadata": {},
   "outputs": [
    {
     "data": {
      "text/plain": [
       "Graph(num_nodes=58, num_edges=154,\n",
       "      ndata_schemes={'gate_type': Scheme(shape=(), dtype=torch.int64)}\n",
       "      edata_schemes={'reversed': Scheme(shape=(), dtype=torch.int64), 'src_idx': Scheme(shape=(), dtype=torch.int64), 'dst_idx': Scheme(shape=(), dtype=torch.int64)})"
      ]
     },
     "execution_count": 4,
     "metadata": {},
     "output_type": "execute_result"
    }
   ],
   "source": [
    "from dgl import save_graphs, load_graphs\n",
    "save_graphs('from_graphs.dat', [init_graph.to_dgl_graph()])\n",
    "g = load_graphs('from_graphs.dat')\n",
    "# g[0].ndata\n",
    "g[0][0]"
   ]
  },
  {
   "cell_type": "code",
   "execution_count": 5,
   "metadata": {},
   "outputs": [],
   "source": [
    "# available_xfer_matrix = init_graph.get_available_xfers_matrix(context=quartz_context)\n",
    "# all_nodes = init_graph.all_nodes()\n",
    "# for node in all_nodes:\n",
    "#     print(init_graph.available_xfers(context=quartz_context, node=node))"
   ]
  },
  {
   "cell_type": "code",
   "execution_count": 6,
   "metadata": {},
   "outputs": [],
   "source": [
    "from qiskit.quantum_info import Statevector\n",
    "from qiskit import QuantumCircuit\n",
    "\n",
    "def check(graph):\n",
    "    graph.to_qasm(filename='best.qasm')\n",
    "    qc_origin = QuantumCircuit.from_qasm_file('barenco_tof_3_opt_path/subst_history_39.qasm')\n",
    "    qc_optimized = QuantumCircuit.from_qasm_file('best.qasm')\n",
    "    return Statevector.from_instruction(qc_origin).equiv(Statevector.from_instruction(qc_optimized))"
   ]
  },
  {
   "cell_type": "code",
   "execution_count": 7,
   "metadata": {},
   "outputs": [
    {
     "name": "stdout",
     "output_type": "stream",
     "text": [
      "4990000: minimum gate count is 52, correctness: True\n",
      "4980000: minimum gate count is 52, correctness: True\n",
      "4970000: minimum gate count is 52, correctness: True\n",
      "4960000: minimum gate count is 46, correctness: True\n",
      "4950000: minimum gate count is 46, correctness: True\n",
      "4940000: minimum gate count is 46, correctness: True\n",
      "4930000: minimum gate count is 46, correctness: True\n",
      "4920000: minimum gate count is 46, correctness: True\n",
      "4910000: minimum gate count is 46, correctness: True\n",
      "4900000: minimum gate count is 46, correctness: True\n",
      "4890000: minimum gate count is 46, correctness: True\n",
      "4880000: minimum gate count is 46, correctness: True\n",
      "4870000: minimum gate count is 46, correctness: True\n",
      "4860000: minimum gate count is 46, correctness: True\n",
      "4850000: minimum gate count is 46, correctness: True\n",
      "4840000: minimum gate count is 46, correctness: True\n",
      "4830000: minimum gate count is 46, correctness: True\n",
      "4820000: minimum gate count is 46, correctness: True\n",
      "4810000: minimum gate count is 46, correctness: True\n",
      "4800000: minimum gate count is 46, correctness: True\n",
      "4790000: minimum gate count is 46, correctness: True\n",
      "4780000: minimum gate count is 46, correctness: True\n"
     ]
    }
   ],
   "source": [
    "# Optimizing with BFS\n",
    "import heapq\n",
    "from concurrent.futures import ProcessPoolExecutor\n",
    "import copy\n",
    "\n",
    "candidate_hq = []\n",
    "heapq.heappush(candidate_hq, init_graph)\n",
    "hash_set = set()\n",
    "hash_set.add(init_graph.hash())\n",
    "best_graph = init_graph\n",
    "best_gate_cnt = init_graph.gate_count\n",
    "max_gate_cnt = 64\n",
    "\n",
    "budget = 5_000_000\n",
    "\n",
    "while candidate_hq != [] and budget >= 0:\n",
    "    first_candidate = heapq.heappop(candidate_hq)\n",
    "    all_nodes = first_candidate.all_nodes()\n",
    "    \n",
    "    def ax(i):\n",
    "        node = all_nodes[i]\n",
    "        return first_candidate.available_xfers(context=quartz_context, node=node)\n",
    "    \n",
    "    with ProcessPoolExecutor(max_workers=64) as executor:\n",
    "        results = executor.map(ax, list(range(len(all_nodes))), chunksize=2)\n",
    "        appliable_xfers_nodes = []\n",
    "        for r in results:\n",
    "            appliable_xfers_nodes.append(r)\n",
    "        \n",
    "    for i in range(len(all_nodes)):\n",
    "        node = all_nodes[i]\n",
    "        appliable_xfers = appliable_xfers_nodes[i]\n",
    "        for xfer in appliable_xfers:\n",
    "            new_graph = first_candidate.apply_xfer(xfer=quartz_context.get_xfer_from_id(id=xfer), node=node)\n",
    "            new_hash = new_graph.hash()\n",
    "            if new_hash not in hash_set:\n",
    "                hash_set.add(new_hash)\n",
    "                new_cnt = new_graph.gate_count\n",
    "                if new_cnt <= max_gate_cnt:\n",
    "                    heapq.heappush(candidate_hq, new_graph)\n",
    "                if new_cnt < best_gate_cnt:\n",
    "                    best_graph = new_graph\n",
    "                    best_gate_cnt = new_cnt\n",
    "                budget -= 1\n",
    "                if budget % 10_000 == 0:\n",
    "                    print(f'{budget}: minimum gate count is {best_gate_cnt}, correctness: {check(best_graph)}')\n"
   ]
  }
 ],
 "metadata": {
  "interpreter": {
   "hash": "5cf248733d409ee2d3396b673fb667db69ceca2c5535c00dab670ead284bfb2d"
  },
  "kernelspec": {
   "display_name": "Python 3.8.11 64-bit ('quantum': conda)",
   "language": "python",
   "name": "python3"
  },
  "language_info": {
   "codemirror_mode": {
    "name": "ipython",
    "version": 3
   },
   "file_extension": ".py",
   "mimetype": "text/x-python",
   "name": "python",
   "nbconvert_exporter": "python",
   "pygments_lexer": "ipython3",
   "version": "3.9.7"
  },
  "orig_nbformat": 4
 },
 "nbformat": 4,
 "nbformat_minor": 2
}
