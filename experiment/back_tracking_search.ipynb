{
 "cells": [
  {
   "cell_type": "code",
   "execution_count": null,
   "metadata": {},
   "outputs": [],
   "source": [
    "# A warning message from DGL will appear which seems to be related to an open issue in the DGL library, \n",
    "# it won't hurt the execution of the program, please ignore it.\n",
    "import quartz"
   ]
  },
  {
   "cell_type": "code",
   "execution_count": null,
   "metadata": {},
   "outputs": [],
   "source": [
    "quartz_context = quartz.QuartzContext(gate_set=['ccz', 'h', 'cx', 'rz', 'x', 'add'], filename='../Nam_5_3_complete_ECC_set.json')\n",
    "parser = quartz.PyQASMParser(context=quartz_context)\n",
    "my_dag = parser.load_qasm(filename=\"../circuit/nam-benchmarks/barenco_tof_3.qasm\")\n",
    "init_graph = quartz.PyGraph(context=quartz_context, dag=my_dag)\n",
    "init_graph = init_graph.ccz_flip_greedy_rz()"
   ]
  },
  {
   "cell_type": "markdown",
   "metadata": {},
   "source": [
    "The codes below shows the usage of the two APIs `PyGraph.available_xfers` and `PyGraph.apply_xfer`."
   ]
  },
  {
   "cell_type": "code",
   "execution_count": null,
   "metadata": {},
   "outputs": [],
   "source": [
    "# available_xfer_matrix = init_graph.get_available_xfers_matrix(context=quartz_context)\n",
    "# all_nodes = init_graph.all_nodes()\n",
    "# for node in all_nodes:\n",
    "#     print(init_graph.available_xfers(context=quartz_context, node=node))"
   ]
  },
  {
   "cell_type": "code",
   "execution_count": null,
   "metadata": {},
   "outputs": [],
   "source": [
    "from qiskit.quantum_info import Statevector\n",
    "from qiskit import QuantumCircuit\n",
    "\n",
    "def check(graph):\n",
    "    graph.to_qasm(filename='best.qasm')\n",
    "    qc_origin = QuantumCircuit.from_qasm_file('barenco_tof_3_opt_path/subst_history_39.qasm')\n",
    "    qc_optimized = QuantumCircuit.from_qasm_file('best.qasm')\n",
    "    return Statevector.from_instruction(qc_origin).equiv(Statevector.from_instruction(qc_optimized))"
   ]
  },
  {
   "cell_type": "code",
   "execution_count": null,
   "metadata": {},
   "outputs": [],
   "source": [
    "# Optimizing with BFS\n",
    "import heapq\n",
    "from concurrent.futures import ProcessPoolExecutor\n",
    "import copy\n",
    "\n",
    "candidate_hq = []\n",
    "heapq.heappush(candidate_hq, init_graph)\n",
    "hash_set = set()\n",
    "hash_set.add(init_graph.hash())\n",
    "best_graph = init_graph\n",
    "best_gate_cnt = init_graph.gate_count\n",
    "\n",
    "budget = 5_000_000\n",
    "\n",
    "while candidate_hq != [] and budget >= 0:\n",
    "    first_candidate = heapq.heappop(candidate_hq)\n",
    "    all_nodes = first_candidate.all_nodes()\n",
    "    \n",
    "    def ax(i):\n",
    "        node = all_nodes[i]\n",
    "        return first_candidate.available_xfers(context=quartz_context, node=node)\n",
    "    \n",
    "    with ProcessPoolExecutor(max_workers=32) as executor:\n",
    "        results = executor.map(ax, list(range(len(all_nodes))), chunksize=2)\n",
    "        appliable_xfers_nodes = []\n",
    "        for r in results:\n",
    "            appliable_xfers_nodes.append(r)\n",
    "        \n",
    "    for i in range(len(all_nodes)):\n",
    "        node = all_nodes[i]\n",
    "        appliable_xfers = appliable_xfers_nodes[i]\n",
    "        for xfer in appliable_xfers:\n",
    "            new_graph = first_candidate.apply_xfer(xfer=quartz_context.get_xfer_from_id(id=xfer), node=node)\n",
    "            new_hash = new_graph.hash()\n",
    "            if new_hash not in hash_set:\n",
    "                hash_set.add(new_hash)\n",
    "                heapq.heappush(candidate_hq, new_graph)\n",
    "                new_cnt = new_graph.gate_count\n",
    "                if new_cnt < best_gate_cnt:\n",
    "                    best_graph = new_graph\n",
    "                    best_gate_cnt = new_cnt\n",
    "                budget -= 1\n",
    "                if budget % 10_000 == 0:\n",
    "                    print(f'{budget}: minimum gate count is {best_gate_cnt}')\n"
   ]
  }
 ],
 "metadata": {
  "interpreter": {
   "hash": "5cf248733d409ee2d3396b673fb667db69ceca2c5535c00dab670ead284bfb2d"
  },
  "kernelspec": {
   "display_name": "Python 3.8.11 64-bit ('quantum': conda)",
   "language": "python",
   "name": "python3"
  },
  "language_info": {
   "codemirror_mode": {
    "name": "ipython",
    "version": 3
   },
   "file_extension": ".py",
   "mimetype": "text/x-python",
   "name": "python",
   "nbconvert_exporter": "python",
   "pygments_lexer": "ipython3",
   "version": "3.9.7"
  },
  "orig_nbformat": 4
 },
 "nbformat": 4,
 "nbformat_minor": 2
}
