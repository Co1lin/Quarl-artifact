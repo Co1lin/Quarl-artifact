{
 "cells": [
  {
   "cell_type": "code",
   "execution_count": 1,
   "metadata": {},
   "outputs": [
    {
     "name": "stderr",
     "output_type": "stream",
     "text": [
      "/home/jinjun/miniconda3/envs/quartz/lib/python3.10/site-packages/tqdm/auto.py:22: TqdmWarning: IProgress not found. Please update jupyter and ipywidgets. See https://ipywidgets.readthedocs.io/en/stable/user_install.html\n",
      "  from .autonotebook import tqdm as notebook_tqdm\n"
     ]
    }
   ],
   "source": [
    "import torch\n",
    "import torch.nn as nn\n",
    "import copy\n",
    "from icecream import ic"
   ]
  },
  {
   "cell_type": "code",
   "execution_count": 4,
   "metadata": {},
   "outputs": [
    {
     "name": "stderr",
     "output_type": "stream",
     "text": [
      "ic| net1.weight.device: device(type='cuda', index=2)\n",
      "ic| net2.weight.device: device(type='cuda', index=2)\n"
     ]
    },
    {
     "data": {
      "text/plain": [
       "device(type='cuda', index=2)"
      ]
     },
     "execution_count": 4,
     "metadata": {},
     "output_type": "execute_result"
    }
   ],
   "source": [
    "net1 = nn.Linear(3,5).to('cuda:2')\n",
    "ic(net1.weight.device)\n",
    "net2 = copy.deepcopy(net1)\n",
    "ic(net2.weight.device)"
   ]
  },
  {
   "cell_type": "code",
   "execution_count": 8,
   "metadata": {},
   "outputs": [
    {
     "name": "stderr",
     "output_type": "stream",
     "text": [
      "ic| net3.weight: Parameter containing:\n",
      "                 tensor([[-0.5693,  0.4885, -0.2683],\n",
      "                         [-0.0751,  0.0521,  0.1915],\n",
      "                         [-0.2107, -0.3562,  0.1439],\n",
      "                         [ 0.4568, -0.3257,  0.2844],\n",
      "                         [ 0.4334, -0.1284,  0.5170]], device='cuda:2', requires_grad=True)\n",
      "ic| net3.weight: Parameter containing:\n",
      "                 tensor([[ 99.4307, 100.4885,  99.7317],\n",
      "                         [ 99.9249, 100.0521, 100.1915],\n",
      "                         [ 99.7893,  99.6438, 100.1439],\n",
      "                         [100.4568,  99.6743, 100.2844],\n",
      "                         [100.4334,  99.8717, 100.5170]], device='cuda:2', requires_grad=True)\n"
     ]
    },
    {
     "data": {
      "text/plain": [
       "Parameter containing:\n",
       "tensor([[ 99.4307, 100.4885,  99.7317],\n",
       "        [ 99.9249, 100.0521, 100.1915],\n",
       "        [ 99.7893,  99.6438, 100.1439],\n",
       "        [100.4568,  99.6743, 100.2844],\n",
       "        [100.4334,  99.8717, 100.5170]], device='cuda:2', requires_grad=True)"
      ]
     },
     "execution_count": 8,
     "metadata": {},
     "output_type": "execute_result"
    }
   ],
   "source": [
    "net3 = net1\n",
    "\n",
    "ic(net3.weight)\n",
    "\n",
    "net1.weight.data = net1.weight.data + 100\n",
    "\n",
    "ic(net3.weight)"
   ]
  }
 ],
 "metadata": {
  "kernelspec": {
   "display_name": "Python 3.10.4 ('quartz')",
   "language": "python",
   "name": "python3"
  },
  "language_info": {
   "codemirror_mode": {
    "name": "ipython",
    "version": 3
   },
   "file_extension": ".py",
   "mimetype": "text/x-python",
   "name": "python",
   "nbconvert_exporter": "python",
   "pygments_lexer": "ipython3",
   "version": "3.10.4"
  },
  "orig_nbformat": 4,
  "vscode": {
   "interpreter": {
    "hash": "727000391658140de014f09a2cefd280fa828086dc8cb8d0493b0ec43fb35302"
   }
  }
 },
 "nbformat": 4,
 "nbformat_minor": 2
}
