{
 "cells": [
  {
   "cell_type": "code",
   "execution_count": 2,
   "metadata": {},
   "outputs": [
    {
     "name": "stdout",
     "output_type": "stream",
     "text": [
      "2189\n",
      "here 1\n",
      "1105\n"
     ]
    }
   ],
   "source": [
    "import quartz # type: ignore\n",
    "import time\n",
    "\n",
    "gate_set = ['h', 'cz', 'rz', 'rx1', 'rx3', 'x', 'add']\n",
    "ecc_file_path: str = '../ecc_set/rigetti_5_ecc.json'\n",
    "no_increase = False\n",
    "include_nop = True\n",
    "quartz_context = quartz.QuartzContext(\n",
    "    gate_set=gate_set,\n",
    "    filename=ecc_file_path,\n",
    "    no_increase=no_increase,\n",
    "    include_nop=include_nop,\n",
    ")\n",
    "print(f'{quartz_context.num_xfers}')\n",
    "def qasm_to_graph(qasm_str: str) -> quartz.PyGraph:\n",
    "    graph = quartz.PyGraph.from_qasm_str(context=quartz_context, qasm_str=qasm_str)\n",
    "    return graph\n",
    "\n",
    "def is_nop(xfer_id: int) -> bool:\n",
    "    return quartz_context.get_xfer_from_id(id=xfer_id).is_nop\n",
    "\n",
    "qasm_file = '../rigetti_circs/twolocalrandom_nativegates_rigetti_qiskit_opt0_10_norm.qasm'\n",
    "with open(qasm_file) as f:\n",
    "    qasm = f.read()\n",
    "s_time = time.time_ns()\n",
    "graph = qasm_to_graph(qasm)\n",
    "print(graph.gate_count)"
   ]
  },
  {
   "cell_type": "code",
   "execution_count": 1,
   "metadata": {},
   "outputs": [
    {
     "name": "stderr",
     "output_type": "stream",
     "text": [
      "/home/jinjun/miniconda3/envs/quartz/lib/python3.10/site-packages/tqdm/auto.py:22: TqdmWarning: IProgress not found. Please update jupyter and ipywidgets. See https://ipywidgets.readthedocs.io/en/stable/user_install.html\n",
      "  from .autonotebook import tqdm as notebook_tqdm\n"
     ]
    },
    {
     "name": "stdout",
     "output_type": "stream",
     "text": [
      "8669\n"
     ]
    }
   ],
   "source": [
    "import quartz # type: ignore\n",
    "import time\n",
    "\n",
    "gate_set = ['h', 'cx', 'x', 'rz', 'add']\n",
    "ecc_file_path: str = '../ecc_set/nam_ecc.json'\n",
    "no_increase = False\n",
    "include_nop = True\n",
    "\n",
    "quartz_context = quartz.QuartzContext(\n",
    "    gate_set=gate_set,\n",
    "    filename=ecc_file_path,\n",
    "    no_increase=no_increase,\n",
    "    include_nop=include_nop,\n",
    ")\n",
    "print(f'{quartz_context.num_xfers}')\n",
    "\n",
    "def qasm_to_graph(qasm_str: str) -> quartz.PyGraph:\n",
    "    graph = quartz.PyGraph.from_qasm_str(context=quartz_context, qasm_str=qasm_str)\n",
    "    return graph\n",
    "\n",
    "def is_nop(xfer_id: int) -> bool:\n",
    "    return quartz_context.get_xfer_from_id(id=xfer_id).is_nop"
   ]
  },
  {
   "cell_type": "code",
   "execution_count": 3,
   "metadata": {},
   "outputs": [
    {
     "name": "stdout",
     "output_type": "stream",
     "text": [
      "dur: 8.205839 ms\n",
      "669\n",
      "-8556416482083842346\n",
      "dur: 2.883815 ms\n"
     ]
    },
    {
     "data": {
      "text/plain": [
       "True"
      ]
     },
     "execution_count": 3,
     "metadata": {},
     "output_type": "execute_result"
    }
   ],
   "source": [
    "# qasm_file = '../outputs/2022-06-26/08-45-11/barenco_tof_3/38_3/24_38_2_26_8622.qasm'\n",
    "qasm_file = '../nam_circs/gf2^7_mult.qasm'\n",
    "with open(qasm_file) as f:\n",
    "    qasm = f.read()\n",
    "s_time = time.time_ns()\n",
    "graph = qasm_to_graph(qasm)\n",
    "e_time = time.time_ns()\n",
    "graph2 = qasm_to_graph(qasm)\n",
    "print(f'dur: {(e_time - s_time) / 1e6} ms')\n",
    "print(graph.gate_count)\n",
    "print(hash(graph))\n",
    "\n",
    "s_time = time.time_ns()\n",
    "qasm_str = graph.to_qasm_str()\n",
    "e_time = time.time_ns()\n",
    "print(f'dur: {(e_time - s_time) / 1e6} ms')\n",
    "\n",
    "graph_again = qasm_to_graph(qasm_str)\n",
    "hash(graph_again) == hash(graph)"
   ]
  },
  {
   "cell_type": "code",
   "execution_count": 11,
   "metadata": {},
   "outputs": [],
   "source": [
    "import dgl\n",
    "with open('../../nam_circs/adder_8.qasm') as f:\n",
    "    qasm = f.read()\n",
    "pg1 = qasm_to_graph(qasm)\n",
    "g1 = pg1.to_dgl_graph()"
   ]
  },
  {
   "cell_type": "code",
   "execution_count": 13,
   "metadata": {},
   "outputs": [
    {
     "name": "stdout",
     "output_type": "stream",
     "text": [
      "torch.Size([900])\n",
      "Graph(num_nodes=43, num_edges=112,\n",
      "      ndata_schemes={'gate_type': Scheme(shape=(), dtype=torch.int32), '_ID': Scheme(shape=(), dtype=torch.int64)}\n",
      "      edata_schemes={'src_idx': Scheme(shape=(), dtype=torch.int32), 'dst_idx': Scheme(shape=(), dtype=torch.int32), 'reversed': Scheme(shape=(), dtype=torch.int32), '_ID': Scheme(shape=(), dtype=torch.int64)})\n",
      "tensor([22])\n",
      "torch.Size([43])\n",
      "torch.Size([1])\n"
     ]
    }
   ],
   "source": [
    "print(f'{g1.ndata[\"gate_type\"].shape}')\n",
    "subg, new_indices = dgl.khop_out_subgraph(g1, 400, k=6)\n",
    "print(f'{subg}\\n{new_indices}\\n{subg.ndata[\"gate_type\"].shape}')\n",
    "print(f'{new_indices.shape}')\n"
   ]
  },
  {
   "cell_type": "code",
   "execution_count": 5,
   "metadata": {},
   "outputs": [
    {
     "name": "stdout",
     "output_type": "stream",
     "text": [
      "torch.Size([958])\n",
      "torch.Size([2, 32])\n"
     ]
    }
   ],
   "source": [
    "import torch\n",
    "import dgl\n",
    "from dgl.nn.pytorch.glob import SumPooling, AvgPooling, MaxPooling\n",
    "\n",
    "with open('../../nam_circs/adder_8.qasm') as f:\n",
    "    qasm = f.read()\n",
    "pg1 = qasm_to_graph(qasm)\n",
    "with open('../../nam_circs/barenco_tof_3.qasm') as f:\n",
    "    qasm = f.read()\n",
    "pg2 = qasm_to_graph(qasm)\n",
    "\n",
    "g1 = pg1.to_dgl_graph()\n",
    "g2 = pg2.to_dgl_graph()\n",
    "\n",
    "bg = dgl.batch([g1, g2])\n",
    "print(bg.ndata['gate_type'].shape)\n",
    "\n",
    "pool = SumPooling()\n",
    "\n",
    "h = torch.rand(958, 32)\n",
    "pooled_h = pool(bg, h)\n",
    "print(pooled_h.shape)"
   ]
  },
  {
   "cell_type": "code",
   "execution_count": 34,
   "metadata": {},
   "outputs": [],
   "source": [
    "import torch\n",
    "import dgl\n",
    "from dgl.nn.pytorch.glob import SumPooling, AvgPooling, MaxPooling\n",
    "\n",
    "with open('../../nam_circs/adder_8.qasm') as f:\n",
    "    qasm = f.read()\n",
    "pg1 = qasm_to_graph(qasm)\n",
    "with open('../../nam_circs/barenco_tof_3.qasm') as f:\n",
    "    qasm = f.read()\n",
    "pg2 = qasm_to_graph(qasm)\n",
    "\n",
    "g1 = pg1.to_dgl_graph()\n",
    "g2 = pg2.to_dgl_graph()\n",
    "# g1 = g2"
   ]
  },
  {
   "cell_type": "code",
   "execution_count": 35,
   "metadata": {},
   "outputs": [
    {
     "name": "stdout",
     "output_type": "stream",
     "text": [
      "torch.Size([2570]) \n",
      " (tensor([  0,   0,   1,  ..., 897, 898, 899]), tensor([  8,  84,   9,  ..., 894, 895, 897]))\n",
      "torch.Size([2570]) \n",
      " (tensor([  0,   0,   1,  ..., 897, 898, 899]), tensor([  8,  84,   9,  ..., 894, 895, 897]))\n",
      "{'src_idx': tensor([0, 1, 0,  ..., 0, 0, 0], dtype=torch.int32), 'dst_idx': tensor([0, 0, 0,  ..., 0, 0, 1], dtype=torch.int32), 'reversed': tensor([0, 0, 0,  ..., 1, 1, 1], dtype=torch.int32), 'w': tensor([[0, 0, 0],\n",
      "        [1, 0, 0],\n",
      "        [0, 0, 0],\n",
      "        ...,\n",
      "        [0, 0, 1],\n",
      "        [0, 0, 1],\n",
      "        [0, 1, 1]], dtype=torch.int32)}\n"
     ]
    }
   ],
   "source": [
    "# print(g1.edata)\n",
    "g1.edata['w'] = torch.cat([\n",
    "    torch.unsqueeze(g1.edata['src_idx'], 1),\n",
    "    torch.unsqueeze(g1.edata['dst_idx'], 1),\n",
    "    torch.unsqueeze(g1.edata['reversed'], 1),\n",
    "], dim=1)\n",
    "# print(g1.edata)\n",
    "# print(g1.edata['src_idx'].shape)\n",
    "# print(g1.edata['w'].shape)\n",
    "g13 = dgl.remove_self_loop(g1)\n",
    "# print(g13.edata['w'].shape)\n",
    "# print(g13.edata['src_idx'], g13.edata['dst_idx'], g13.edata['src_idx'].shape)\n",
    "# print(g1.num_edges(), g13.num_edges())\n",
    "# print(g1.edges())\n",
    "print(g1.edges()[0].shape, '\\n', g1.edges())\n",
    "print(g13.edges()[0].shape, '\\n', g13.edges())\n",
    "print(g13.edata)"
   ]
  },
  {
   "cell_type": "code",
   "execution_count": 37,
   "metadata": {},
   "outputs": [
    {
     "name": "stdout",
     "output_type": "stream",
     "text": [
      "{'src_idx': tensor([0, 1, 0,  ..., 0, 0, 0], dtype=torch.int32), 'dst_idx': tensor([0, 0, 0,  ..., 0, 0, 0], dtype=torch.int32), 'reversed': tensor([0, 0, 0,  ..., 0, 0, 0], dtype=torch.int32), 'w': tensor([[0, 0, 0],\n",
      "        [1, 0, 0],\n",
      "        [0, 0, 0],\n",
      "        ...,\n",
      "        [0, 0, 0],\n",
      "        [0, 0, 0],\n",
      "        [0, 0, 0]], dtype=torch.int32)}\n",
      "torch.Size([3470, 3]) torch.Size([3470])\n"
     ]
    }
   ],
   "source": [
    "g12 = dgl.add_self_loop(g1)\n",
    "print(g12.edata)\n",
    "print(g12.edata['w'].shape, g12.edata['src_idx'].shape)"
   ]
  },
  {
   "cell_type": "code",
   "execution_count": 16,
   "metadata": {},
   "outputs": [
    {
     "name": "stdout",
     "output_type": "stream",
     "text": [
      "tensor(0, dtype=torch.int32) tensor(0, dtype=torch.int32)\n",
      "torch.Size([900]) tensor([6, 6, 0, 6, 0, 0, 6, 0, 6, 6, 6, 6, 0, 0, 0, 0, 0, 0, 0, 0, 6, 6, 6, 6,\n",
      "        5, 5, 5, 5, 6, 6, 6, 6, 5, 5, 5, 5, 6, 6, 6, 6, 5, 5, 5, 5, 6, 6, 6, 6,\n",
      "        6, 5, 6, 5, 6, 5, 6, 5, 5, 0, 5, 0, 5, 0, 5, 0, 6, 6, 6, 6, 6, 6, 6, 6,\n",
      "        5, 5, 5, 5, 5, 5, 5, 5, 5, 5, 5, 5, 6, 6, 6, 6, 6, 6, 6, 5, 5, 5, 5, 6,\n",
      "        6, 6, 6, 5, 5, 5, 5, 6, 6, 6, 6, 6, 5, 6, 5, 6, 5, 6, 5, 5, 0, 5, 5, 0,\n",
      "        5, 6, 6, 6, 6, 5, 5, 5, 5, 5, 5, 5, 5, 0, 6, 6, 6, 6, 5, 5, 5, 5, 6, 6,\n",
      "        6, 6, 5, 5, 5, 5, 6, 6, 6, 6, 5, 5, 5, 5, 6, 6, 6, 6, 6, 5, 6, 5, 6, 5,\n",
      "        6, 5, 5, 5, 5, 5, 0, 6, 6, 6, 6, 6, 5, 5, 5, 5, 5, 5, 5, 5, 0, 6, 6, 6,\n",
      "        6, 6, 6, 6, 5, 5, 5, 5, 6, 6, 6, 6, 5, 5, 5, 5, 6, 6, 6, 6, 5, 5, 5, 5,\n",
      "        6, 6, 6, 6, 6, 5, 6, 5, 6, 5, 6, 5, 5, 0, 5, 0, 5, 0, 5, 0, 6, 6, 6, 6,\n",
      "        6, 6, 6, 5, 5, 0, 1, 5, 5, 5, 5, 5, 5, 5, 5, 6, 6, 6, 5, 5, 5, 6, 6, 6,\n",
      "        5, 5, 5, 6, 6, 6, 5, 6, 5, 6, 5, 6, 5, 0, 5, 0, 6, 5, 6, 6, 5, 0, 5, 5,\n",
      "        5, 5, 6, 6, 0, 6, 5, 5, 0, 6, 5, 6, 5, 6, 1, 6, 6, 5, 5, 5, 6, 6, 6, 5,\n",
      "        5, 5, 6, 6, 6, 6, 5, 5, 6, 5, 5, 6, 6, 5, 6, 5, 6, 5, 6, 5, 5, 6, 5, 0,\n",
      "        5, 5, 0, 5, 6, 6, 6, 6, 5, 5, 6, 6, 5, 5, 5, 6, 6, 6, 5, 5, 5, 0, 6, 6,\n",
      "        5, 5, 5, 6, 6, 0, 6, 5, 5, 6, 5, 6, 5, 6, 5, 5, 5, 6, 0, 6, 5, 6, 5, 0,\n",
      "        5, 6, 6, 5, 5, 5, 6, 6, 5, 5, 6, 6, 5, 6, 5, 6, 5, 0, 6, 5, 6, 6, 5, 0,\n",
      "        5, 5, 6, 6, 5, 5, 6, 0, 0, 6, 0, 6, 6, 6, 5, 5, 5, 6, 6, 6, 5, 5, 5, 6,\n",
      "        6, 6, 5, 5, 5, 6, 6, 6, 6, 5, 6, 5, 6, 5, 5, 5, 5, 0, 6, 6, 6, 6, 5, 5,\n",
      "        5, 5, 5, 5, 0, 1, 6, 6, 6, 6, 6, 6, 6, 5, 5, 5, 6, 6, 6, 5, 5, 5, 6, 6,\n",
      "        6, 5, 5, 5, 6, 6, 6, 6, 5, 6, 5, 6, 5, 5, 0, 5, 5, 0, 6, 6, 6, 5, 5, 5,\n",
      "        5, 5, 5, 6, 0, 0, 6, 6, 6, 6, 5, 5, 6, 6, 6, 6, 1, 0, 5, 5, 6, 6, 6, 5,\n",
      "        5, 5, 6, 6, 6, 5, 6, 5, 6, 5, 6, 5, 0, 5, 0, 5, 6, 6, 6, 6, 6, 5, 5, 5,\n",
      "        5, 6, 5, 6, 6, 5, 0, 6, 6, 6, 6, 6, 0, 6, 0, 5, 5, 5, 6, 6, 6, 6, 5, 5,\n",
      "        5, 6, 6, 6, 5, 5, 5, 6, 6, 6, 5, 5, 6, 5, 6, 6, 5, 6, 5, 6, 5, 6, 5, 0,\n",
      "        5, 0, 5, 5, 6, 6, 6, 6, 6, 5, 5, 0, 1, 5, 5, 0, 6, 6, 6, 5, 5, 5, 6, 6,\n",
      "        6, 5, 5, 5, 6, 6, 6, 5, 5, 5, 6, 6, 6, 6, 5, 6, 5, 6, 5, 5, 0, 5, 0, 5,\n",
      "        0, 6, 6, 6, 5, 5, 5, 5, 5, 5, 6, 6, 6, 6, 6, 6, 0, 6, 6, 6, 1, 0, 6, 5,\n",
      "        6, 5, 6, 5, 6, 6, 5, 5, 0, 6, 6, 5, 5, 5, 6, 6, 5, 6, 5, 6, 6, 5, 5, 6,\n",
      "        5, 5, 6, 6, 5, 6, 5, 6, 5, 6, 6, 5, 5, 0, 6, 6, 5, 5, 5, 6, 5, 6, 5, 6,\n",
      "        6, 5, 5, 6, 5, 5, 0, 0, 6, 6, 5, 5, 6, 6, 5, 5, 6, 6, 5, 5, 6, 6, 6, 5,\n",
      "        6, 5, 5, 5, 6, 6, 5, 5, 5, 5, 0, 0, 6, 6, 6, 6, 6, 5, 5, 5, 6, 6, 6, 5,\n",
      "        5, 5, 6, 6, 6, 5, 5, 5, 6, 6, 6, 6, 5, 6, 5, 6, 5, 5, 0, 5, 5, 0, 6, 6,\n",
      "        6, 5, 5, 5, 5, 5, 5, 0, 6, 6, 6, 6, 6, 5, 5, 5, 6, 6, 6, 5, 5, 5, 6, 6,\n",
      "        6, 5, 5, 5, 6, 6, 6, 6, 5, 6, 5, 6, 5, 5, 0, 5, 0, 5, 0, 6, 6, 6, 6, 5,\n",
      "        5, 5, 5, 6, 5, 5, 0, 1, 1, 6, 6, 5, 5, 6, 6, 5, 5, 6, 6, 5, 5, 6, 6, 6,\n",
      "        5, 6, 5, 5, 0, 5, 0, 6, 6, 6, 5, 5, 5, 5, 6, 0, 1, 1, 6, 5, 6, 5, 6, 5,\n",
      "        6, 6, 5, 5, 0, 6, 6, 5, 5, 6, 1, 1], dtype=torch.int32)\n"
     ]
    }
   ],
   "source": [
    "i = 2570\n",
    "print(g12.edata['src_idx'][i], g12.edata['dst_idx'][i])\n",
    "\n",
    "print(g1.ndata['gate_type'].shape, g12.ndata['gate_type'])"
   ]
  },
  {
   "cell_type": "code",
   "execution_count": 3,
   "metadata": {},
   "outputs": [
    {
     "name": "stdout",
     "output_type": "stream",
     "text": [
      "58\n",
      "24\n"
     ]
    }
   ],
   "source": [
    "print(graph.gate_count)\n",
    "print(graph.cx_count)"
   ]
  },
  {
   "cell_type": "code",
   "execution_count": 8,
   "metadata": {},
   "outputs": [
    {
     "data": {
      "text/plain": [
       "tensor([900,  58])"
      ]
     },
     "execution_count": 8,
     "metadata": {},
     "output_type": "execute_result"
    }
   ],
   "source": [
    "bg.batch_num_nodes()\n",
    "# x0 = torch.zeros(0)\n",
    "# x0 += torch.rand(3, 16)"
   ]
  },
  {
   "cell_type": "code",
   "execution_count": 6,
   "metadata": {},
   "outputs": [
    {
     "name": "stdout",
     "output_type": "stream",
     "text": [
      "[98, 100, 188, 189, 499, 501, 507, 511, 8668]\n"
     ]
    }
   ],
   "source": [
    "av_xfers = graph.available_xfers_parallel(\n",
    "    context=quartz_context, node=graph.get_node_from_id(id=22))\n",
    "print(av_xfers)"
   ]
  },
  {
   "cell_type": "code",
   "execution_count": 14,
   "metadata": {},
   "outputs": [
    {
     "name": "stdout",
     "output_type": "stream",
     "text": [
      "[<quartz.core.PyGraph object at 0x7f93ffe5e700>, <quartz.core.PyGraph object at 0x7f94001c8d40>, <quartz.core.PyGraph object at 0x7f93fffd6900>, <quartz.core.PyGraph object at 0x7f9400b30c00>, <quartz.core.PyGraph object at 0x7f93ffd05b80>, <quartz.core.PyGraph object at 0x7f93ffd071c0>, <quartz.core.PyGraph object at 0x7f93ffd06140>, <quartz.core.PyGraph object at 0x7f93ffd04800>, <quartz.core.PyGraph object at 0x7f93ffd04140>, <quartz.core.PyGraph object at 0x7f93ffd05580>, <quartz.core.PyGraph object at 0x7f93ffd07600>, <quartz.core.PyGraph object at 0x7f93ffd06840>, <quartz.core.PyGraph object at 0x7f93ffd06900>, <quartz.core.PyGraph object at 0x7f93ffd05980>, <quartz.core.PyGraph object at 0x7f93ffd04840>, <quartz.core.PyGraph object at 0x7f93ffe93fc0>, <quartz.core.PyGraph object at 0x7f93ffe93f80>, <quartz.core.PyGraph object at 0x7f93ffe937c0>]\n",
      "[36, 36, 36, 37, 38, 39, 40, 41, 43, 45, 46, 48, 49, 50, 52, 54, 56, 56]\n",
      "[14, 14, 14, 15, 16, 17, 18, 19, 21, 21, 20, 22, 23, 24, 24, 24, 24, 24]\n"
     ]
    }
   ],
   "source": [
    "import natsort\n",
    "from natsort import natsorted\n",
    "graphs = []\n",
    "graph_gc = []\n",
    "graph_cc = []\n",
    "record_dir = 'barenco_tof_3'\n",
    "path_dirs = natsorted(os.listdir(record_dir))\n",
    "for path_dir in path_dirs:\n",
    "    path_dir_full = os.path.join(record_dir, path_dir)\n",
    "    cir_file = natsorted(os.listdir(path_dir_full))[-1]\n",
    "    cir_file_path = os.path.join(path_dir_full, cir_file)\n",
    "    with open(cir_file_path) as f:\n",
    "        qasm = f.read()\n",
    "    graph = qasm_to_graph(qasm)\n",
    "    graphs.append(graph)\n",
    "    graph_gc.append(graph.gate_count)\n",
    "    graph_cc.append(graph.cx_count)\n",
    "print(graphs)\n",
    "print(graph_gc)\n",
    "print(graph_cc)\n"
   ]
  },
  {
   "cell_type": "code",
   "execution_count": 12,
   "metadata": {},
   "outputs": [
    {
     "data": {
      "text/plain": [
       "['0_37_0_0_0.qasm',\n",
       " '10_39_1_31_2569.qasm',\n",
       " '11_39_0_32_8344.qasm',\n",
       " '12_38_1_30_2602.qasm',\n",
       " '13_39_-1_15_6877.qasm',\n",
       " '14_38_1_15_6898.qasm',\n",
       " '15_38_0_29_97.qasm',\n",
       " '16_38_0_16_102.qasm',\n",
       " '17_38_0_29_102.qasm',\n",
       " '18_38_0_16_103.qasm',\n",
       " '19_39_-1_30_4259.qasm',\n",
       " '1_37_0_15_103.qasm',\n",
       " '20_38_1_30_2618.qasm',\n",
       " '21_39_-1_30_2665.qasm',\n",
       " '22_39_0_34_189.qasm',\n",
       " '23_37_2_33_8646.qasm',\n",
       " '24_38_-1_11_2665.qasm',\n",
       " '25_37_1_11_2618.qasm',\n",
       " '26_37_0_16_102.qasm',\n",
       " '27_37_0_16_97.qasm',\n",
       " '28_38_-1_15_6894.qasm',\n",
       " '29_40_-2_14_94.qasm',\n",
       " '2_38_-1_11_4259.qasm',\n",
       " '30_40_0_13_8335.qasm',\n",
       " '31_40_0_13_8308.qasm',\n",
       " '32_39_1_11_2618.qasm',\n",
       " '33_38_1_16_1888.qasm',\n",
       " '34_36_2_15_8622.qasm',\n",
       " '3_37_1_11_2618.qasm',\n",
       " '4_38_-1_15_6894.qasm',\n",
       " '5_37_1_15_6878.qasm',\n",
       " '6_39_-2_15_2041.qasm',\n",
       " '7_37_2_15_2042.qasm',\n",
       " '8_39_-2_33_94.qasm',\n",
       " '9_40_-1_31_2568.qasm']"
      ]
     },
     "execution_count": 12,
     "metadata": {},
     "output_type": "execute_result"
    }
   ],
   "source": [
    "sorted(os.listdir('barenco_tof_3/36_1'))"
   ]
  }
 ],
 "metadata": {
  "kernelspec": {
   "display_name": "Python 3.10.4 ('quartz')",
   "language": "python",
   "name": "python3"
  },
  "language_info": {
   "codemirror_mode": {
    "name": "ipython",
    "version": 3
   },
   "file_extension": ".py",
   "mimetype": "text/x-python",
   "name": "python",
   "nbconvert_exporter": "python",
   "pygments_lexer": "ipython3",
   "version": "3.10.4"
  },
  "orig_nbformat": 4,
  "vscode": {
   "interpreter": {
    "hash": "727000391658140de014f09a2cefd280fa828086dc8cb8d0493b0ec43fb35302"
   }
  }
 },
 "nbformat": 4,
 "nbformat_minor": 2
}
