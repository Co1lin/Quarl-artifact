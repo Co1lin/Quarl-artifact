{
 "cells": [
  {
   "cell_type": "code",
   "execution_count": 4,
   "metadata": {},
   "outputs": [
    {
     "name": "stdout",
     "output_type": "stream",
     "text": [
      "7121\n",
      "1041\n",
      "999\n"
     ]
    }
   ],
   "source": [
    "import quartz\n",
    "\n",
    "# context = quartz.QuartzContext(gate_set=['h', 'cx', 't', 'tdg'],\n",
    "#                                filename='../../bfs_verified_simplified.json',\n",
    "#                                no_increase=False, include_nop=True)\n",
    "context = quartz.QuartzContext(gate_set=['h', 'cx', 'x', 't', 'tdg'],\n",
    "                               filename='../ecc_set/t_tdg.json.ecc',\n",
    "                               no_increase=False, include_nop=True)\n",
    "\n",
    "print(context.num_xfers)\n",
    "xfers = context.get_xfers()\n",
    "# print(xfers[3903].is_nop)\n",
    "\n",
    "reduce_xfer_set = set([])\n",
    "increase_xfer_set = set([])\n",
    "\n",
    "for i in range(len(xfers)):\n",
    "    if not xfers[i].is_nop:\n",
    "        if xfers[i].src_gate_count > xfers[i].dst_gate_count:\n",
    "            reduce_xfer_set.add(i)\n",
    "        elif xfers[i].src_gate_count < xfers[i].dst_gate_count:\n",
    "            increase_xfer_set.add(i)\n",
    "\n",
    "print(len(reduce_xfer_set))\n",
    "print(len(increase_xfer_set))\n",
    "# print(sorted(list(increase_xfer_set)))"
   ]
  },
  {
   "cell_type": "code",
   "execution_count": 2,
   "metadata": {},
   "outputs": [
    {
     "name": "stdout",
     "output_type": "stream",
     "text": [
      "no change\n"
     ]
    }
   ],
   "source": [
    "xfer = 2863\n",
    "if xfer in reduce_xfer_set:\n",
    "    print('reduce')\n",
    "elif xfer in increase_xfer_set:\n",
    "    print('increase')\n",
    "else:\n",
    "    print('no change')"
   ]
  },
  {
   "cell_type": "code",
   "execution_count": 3,
   "metadata": {},
   "outputs": [
    {
     "name": "stdout",
     "output_type": "stream",
     "text": [
      "1041\n",
      "298\n"
     ]
    }
   ],
   "source": [
    "# log_fn = 'fine-tune/PPO_logs/rl_ppo_fine_tune/PPO_rl_ppo_fine_tune_log_107.csv'\n",
    "log_fn = 'ppo-new-pretrain/PPO_logs/rl_ppo_fine_tune/PPO_rl_ppo_fine_tune_log_6.csv'\n",
    "\n",
    "used_reduce_xfer_set = set([])\n",
    "\n",
    "with open(log_fn, 'r') as f:\n",
    "    for l in f:\n",
    "        r = l.find('Reduced')\n",
    "        if r != -1:\n",
    "            pos = l.find('xfer')\n",
    "            if pos != -1:\n",
    "                l = l[pos + 6:]\n",
    "                xfer_id = int(l[:l.find('\\t')])\n",
    "                used_reduce_xfer_set.add(xfer_id)\n",
    "\n",
    "print(len(reduce_xfer_set))\n",
    "print(len(used_reduce_xfer_set))"
   ]
  },
  {
   "cell_type": "code",
   "execution_count": null,
   "metadata": {},
   "outputs": [],
   "source": [
    "import quartz\n",
    "\n",
    "# context = quartz.QuartzContext(gate_set=['h', 'cx', 't', 'tdg'],\n",
    "#                                filename='../../bfs_verified_simplified.json',\n",
    "#                                no_increase=False, include_nop=True)\n",
    "context = quartz.QuartzContext(gate_set=['h', 'cx', 'rz', 'x', 'add'],\n",
    "                               filename='../ecc_set/nam.json.ecc',\n",
    "                               no_increase=False, include_nop=True)\n",
    "\n",
    "print(context.num_xfers)\n",
    "xfers = context.get_xfers()\n",
    "# print(xfers[3903].is_nop)\n",
    "\n",
    "reduce_xfer_set = set([])\n",
    "increase_xfer_set = set([])\n",
    "\n",
    "for i in range(len(xfers)):\n",
    "    if not xfers[i].is_nop:\n",
    "        if xfers[i].src_gate_count > xfers[i].dst_gate_count:\n",
    "            reduce_xfer_set.add(i)\n",
    "        elif xfers[i].src_gate_count < xfers[i].dst_gate_count:\n",
    "            increase_xfer_set.add(i)\n",
    "\n",
    "print(len(reduce_xfer_set))\n",
    "print(len(increase_xfer_set))\n",
    "# print(sorted(list(increase_xfer_set)))"
   ]
  }
 ],
 "metadata": {
  "interpreter": {
   "hash": "96b51c792a6989d4839d314c065544fba67e314d7b530d0571cf3625bc1ceb7e"
  },
  "kernelspec": {
   "display_name": "Python 3.8.12 ('quantum')",
   "language": "python",
   "name": "python3"
  },
  "language_info": {
   "codemirror_mode": {
    "name": "ipython",
    "version": 3
   },
   "file_extension": ".py",
   "mimetype": "text/x-python",
   "name": "python",
   "nbconvert_exporter": "python",
   "pygments_lexer": "ipython3",
   "version": "3.9.12"
  },
  "orig_nbformat": 4
 },
 "nbformat": 4,
 "nbformat_minor": 2
}
