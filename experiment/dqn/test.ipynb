{
 "cells": [
  {
   "cell_type": "code",
   "execution_count": 7,
   "metadata": {},
   "outputs": [],
   "source": [
    "import quartz\n",
    "import torch\n",
    "import dgl\n",
    "import time\n",
    "from icecream import ic"
   ]
  },
  {
   "cell_type": "code",
   "execution_count": 2,
   "metadata": {},
   "outputs": [
    {
     "name": "stderr",
     "output_type": "stream",
     "text": [
      "ic| num_xfers: 3904\n"
     ]
    },
    {
     "data": {
      "text/plain": [
       "3904"
      ]
     },
     "execution_count": 2,
     "metadata": {},
     "output_type": "execute_result"
    }
   ],
   "source": [
    "gate_set = ['h', 'cx', 't', 'tdg']\n",
    "ecc_file = 'bfs_verified_simplified.json'\n",
    "no_increase = False\n",
    "include_nop = True\n",
    "quartz_context = quartz.QuartzContext(\n",
    "    gate_set=gate_set,\n",
    "    filename=ecc_file,\n",
    "    # TODO  we need to include xfers that lead to gate increase when training?\n",
    "    # we may exclude them when generating the dataset for pre-training\n",
    "    # TODO  to make the task easier, we exclude those xfers currently\n",
    "    no_increase=no_increase,\n",
    "    include_nop=include_nop,\n",
    ")\n",
    "num_xfers = quartz_context.num_xfers\n",
    "parser = quartz.PyQASMParser(context=quartz_context)\n",
    "ic(num_xfers)\n"
   ]
  },
  {
   "cell_type": "code",
   "execution_count": 22,
   "metadata": {},
   "outputs": [
    {
     "name": "stdout",
     "output_type": "stream",
     "text": [
      "3.75787 ms\n"
     ]
    }
   ],
   "source": [
    "qasm_str = 'OPENQASM 2.0;\\ninclude \"qelib1.inc\";\\nqreg q[5];\\nh q[4];\\ncx q[3],q[4];\\ntdg q[4];\\ncx q[2],q[4];\\nt q[4];\\ncx q[3],q[4];\\ntdg q[4];\\ncx q[3],q[2];\\ntdg q[2];\\ncx q[3],q[2];\\nt q[3];\\ncx q[2],q[4];\\nh q[3];\\nt q[4];\\ncx q[1],q[3];\\ntdg q[3];\\ncx q[0],q[3];\\nt q[3];\\ncx q[1],q[3];\\ntdg q[3];\\ncx q[0],q[3];\\ncx q[0],q[1];\\nt q[3];\\ntdg q[1];\\nh q[3];\\ncx q[0],q[1];\\ncx q[3],q[4];\\nt q[0];\\nt q[1];\\nt q[4];\\ncx q[2],q[4];\\ntdg q[4];\\ncx q[3],q[4];\\nt q[4];\\ncx q[2],q[4];\\ntdg q[4];\\ncx q[2],q[3];\\nh q[4];\\nt q[3];\\ncx q[2],q[3];\\ntdg q[3];\\nh q[3];\\ncx q[1],q[3];\\nt q[3];\\ncx q[0],q[3];\\ntdg q[3];\\ncx q[1],q[3];\\nt q[3];\\ncx q[0],q[3];\\ncx q[0],q[1];\\ntdg q[3];\\nt q[1];\\nh q[3];\\ncx q[0],q[1];\\ntdg q[0];\\ntdg q[1];\\n'\n",
    "s_time = time.time_ns()\n",
    "dag = parser.load_qasm_str(qasm_str)\n",
    "graph = quartz.PyGraph(context=quartz_context, dag=dag)\n",
    "e_time = time.time_ns()\n",
    "print(f'{(e_time - s_time) / 1e6} ms')"
   ]
  },
  {
   "cell_type": "code",
   "execution_count": 14,
   "metadata": {},
   "outputs": [
    {
     "name": "stdout",
     "output_type": "stream",
     "text": [
      "3.339538 ms\n"
     ]
    }
   ],
   "source": [
    "s_time = time.time_ns()\n",
    "graph2 = quartz.PyGraph.from_qasm_str(context=quartz_context, qasm_str=qasm_str)\n",
    "e_time = time.time_ns()\n",
    "print(f'{(e_time - s_time) / 1e6} ms')"
   ]
  },
  {
   "cell_type": "code",
   "execution_count": 6,
   "metadata": {},
   "outputs": [
    {
     "name": "stdout",
     "output_type": "stream",
     "text": [
      "True\n",
      "True\n",
      "True\n",
      "True\n",
      "True\n"
     ]
    },
    {
     "ename": "KeyboardInterrupt",
     "evalue": "",
     "output_type": "error",
     "traceback": [
      "\u001b[0;31m---------------------------------------------------------------------------\u001b[0m",
      "\u001b[0;31mKeyboardInterrupt\u001b[0m                         Traceback (most recent call last)",
      "\u001b[1;32m/home/jinjun/quartz/experiment/dqn/test.ipynb Cell 5'\u001b[0m in \u001b[0;36m<cell line: 1>\u001b[0;34m()\u001b[0m\n\u001b[1;32m      <a href='vscode-notebook-cell://ssh-remote%2Bec2-44-200-22-73.compute-1.amazonaws.com/home/jinjun/quartz/experiment/dqn/test.ipynb#ch0000009vscode-remote?line=1'>2</a>\u001b[0m avxfers \u001b[39m=\u001b[39m []\n\u001b[1;32m      <a href='vscode-notebook-cell://ssh-remote%2Bec2-44-200-22-73.compute-1.amazonaws.com/home/jinjun/quartz/experiment/dqn/test.ipynb#ch0000009vscode-remote?line=2'>3</a>\u001b[0m \u001b[39mfor\u001b[39;00m i \u001b[39min\u001b[39;00m \u001b[39mrange\u001b[39m(graph\u001b[39m.\u001b[39mnum_nodes):\n\u001b[1;32m      <a href='vscode-notebook-cell://ssh-remote%2Bec2-44-200-22-73.compute-1.amazonaws.com/home/jinjun/quartz/experiment/dqn/test.ipynb#ch0000009vscode-remote?line=3'>4</a>\u001b[0m     avxfers\u001b[39m.\u001b[39mappend(\n\u001b[0;32m----> <a href='vscode-notebook-cell://ssh-remote%2Bec2-44-200-22-73.compute-1.amazonaws.com/home/jinjun/quartz/experiment/dqn/test.ipynb#ch0000009vscode-remote?line=4'>5</a>\u001b[0m         graph\u001b[39m.\u001b[39;49mavailable_xfers(\n\u001b[1;32m      <a href='vscode-notebook-cell://ssh-remote%2Bec2-44-200-22-73.compute-1.amazonaws.com/home/jinjun/quartz/experiment/dqn/test.ipynb#ch0000009vscode-remote?line=5'>6</a>\u001b[0m             context\u001b[39m=\u001b[39;49mquartz_context,\n\u001b[1;32m      <a href='vscode-notebook-cell://ssh-remote%2Bec2-44-200-22-73.compute-1.amazonaws.com/home/jinjun/quartz/experiment/dqn/test.ipynb#ch0000009vscode-remote?line=6'>7</a>\u001b[0m             node\u001b[39m=\u001b[39;49mgraph\u001b[39m.\u001b[39;49mget_node_from_id(\u001b[39mid\u001b[39;49m\u001b[39m=\u001b[39;49mi)\n\u001b[1;32m      <a href='vscode-notebook-cell://ssh-remote%2Bec2-44-200-22-73.compute-1.amazonaws.com/home/jinjun/quartz/experiment/dqn/test.ipynb#ch0000009vscode-remote?line=7'>8</a>\u001b[0m         )\n\u001b[1;32m      <a href='vscode-notebook-cell://ssh-remote%2Bec2-44-200-22-73.compute-1.amazonaws.com/home/jinjun/quartz/experiment/dqn/test.ipynb#ch0000009vscode-remote?line=8'>9</a>\u001b[0m     )\n\u001b[1;32m     <a href='vscode-notebook-cell://ssh-remote%2Bec2-44-200-22-73.compute-1.amazonaws.com/home/jinjun/quartz/experiment/dqn/test.ipynb#ch0000009vscode-remote?line=9'>10</a>\u001b[0m avxfers2 \u001b[39m=\u001b[39m []\n\u001b[1;32m     <a href='vscode-notebook-cell://ssh-remote%2Bec2-44-200-22-73.compute-1.amazonaws.com/home/jinjun/quartz/experiment/dqn/test.ipynb#ch0000009vscode-remote?line=10'>11</a>\u001b[0m \u001b[39mfor\u001b[39;00m i \u001b[39min\u001b[39;00m \u001b[39mrange\u001b[39m(graph2\u001b[39m.\u001b[39mnum_nodes):\n",
      "\u001b[0;31mKeyboardInterrupt\u001b[0m: "
     ]
    }
   ],
   "source": [
    "while True:\n",
    "    avxfers = []\n",
    "    for i in range(graph.num_nodes):\n",
    "        avxfers.append(\n",
    "            graph.available_xfers(\n",
    "                context=quartz_context,\n",
    "                node=graph.get_node_from_id(id=i)\n",
    "            )\n",
    "        )\n",
    "    avxfers2 = []\n",
    "    for i in range(graph2.num_nodes):\n",
    "        avxfers2.append(\n",
    "            graph2.available_xfers(\n",
    "                context=quartz_context,\n",
    "                node=graph2.get_node_from_id(id=i)\n",
    "            )\n",
    "        )\n",
    "    print(avxfers == avxfers2)"
   ]
  },
  {
   "cell_type": "code",
   "execution_count": null,
   "metadata": {},
   "outputs": [],
   "source": [
    "int(torch.multinomial(torch.Tensor([1,2,3,4]), 1))"
   ]
  },
  {
   "cell_type": "code",
   "execution_count": null,
   "metadata": {},
   "outputs": [],
   "source": [
    "next_graph, next_nodes = \\\n",
    "    graph.apply_xfer_with_local_state_tracking(\n",
    "        xfer=quartz_context.get_xfer_from_id(id=action.xfer),\n",
    "        node=graph.get_node_from_id(id=action.node)\n",
    "    )"
   ]
  },
  {
   "cell_type": "code",
   "execution_count": null,
   "metadata": {},
   "outputs": [],
   "source": [
    "avxfers = []\n",
    "for i in range(graph.num_nodes):\n",
    "    avxfers.append(\n",
    "        graph.available_xfers(\n",
    "            context=quartz_context,\n",
    "            node=graph.get_node_from_id(id=i)\n",
    "        )\n",
    "    )\n",
    "avxfers"
   ]
  },
  {
   "cell_type": "code",
   "execution_count": null,
   "metadata": {},
   "outputs": [],
   "source": [
    "qasm2 = graph.to_qasm_str()\n",
    "g2 = quartz.PyGraph(context=quartz_context, dag=parser.load_qasm_str(qasm2))\n",
    "avxfers2 = []\n",
    "for i in range(g2.num_nodes):\n",
    "    avxfers2.append(\n",
    "        g2.available_xfers(\n",
    "            context=quartz_context,\n",
    "            node=g2.get_node_from_id(id=i)\n",
    "        )\n",
    "    )\n",
    "avxfers2 == avxfers"
   ]
  },
  {
   "cell_type": "code",
   "execution_count": null,
   "metadata": {},
   "outputs": [],
   "source": [
    "max([])"
   ]
  }
 ],
 "metadata": {
  "interpreter": {
   "hash": "727000391658140de014f09a2cefd280fa828086dc8cb8d0493b0ec43fb35302"
  },
  "kernelspec": {
   "display_name": "Python 3.10.4 ('quartz')",
   "language": "python",
   "name": "python3"
  },
  "language_info": {
   "codemirror_mode": {
    "name": "ipython",
    "version": 3
   },
   "file_extension": ".py",
   "mimetype": "text/x-python",
   "name": "python",
   "nbconvert_exporter": "python",
   "pygments_lexer": "ipython3",
   "version": "3.10.4"
  },
  "orig_nbformat": 4
 },
 "nbformat": 4,
 "nbformat_minor": 2
}
