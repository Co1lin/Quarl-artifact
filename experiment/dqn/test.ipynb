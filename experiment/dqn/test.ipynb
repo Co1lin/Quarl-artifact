{
 "cells": [
  {
   "cell_type": "code",
   "execution_count": 1,
   "metadata": {},
   "outputs": [
    {
     "name": "stderr",
     "output_type": "stream",
     "text": [
      "/home/jinjun/miniconda3/envs/quartz/lib/python3.10/site-packages/tqdm/auto.py:22: TqdmWarning: IProgress not found. Please update jupyter and ipywidgets. See https://ipywidgets.readthedocs.io/en/stable/user_install.html\n",
      "  from .autonotebook import tqdm as notebook_tqdm\n"
     ]
    }
   ],
   "source": [
    "import quartz\n",
    "import torch\n",
    "import dgl\n",
    "from icecream import ic"
   ]
  },
  {
   "cell_type": "code",
   "execution_count": 2,
   "metadata": {},
   "outputs": [
    {
     "name": "stderr",
     "output_type": "stream",
     "text": [
      "ic| num_xfers: 3904\n"
     ]
    },
    {
     "data": {
      "text/plain": [
       "3904"
      ]
     },
     "execution_count": 2,
     "metadata": {},
     "output_type": "execute_result"
    }
   ],
   "source": [
    "gate_set = ['h', 'cx', 't', 'tdg']\n",
    "ecc_file = 'bfs_verified_simplified.json'\n",
    "no_increase = False\n",
    "include_nop = True\n",
    "quartz_context = quartz.QuartzContext(\n",
    "    gate_set=gate_set,\n",
    "    filename=ecc_file,\n",
    "    # TODO  we need to include xfers that lead to gate increase when training?\n",
    "    # we may exclude them when generating the dataset for pre-training\n",
    "    # TODO  to make the task easier, we exclude those xfers currently\n",
    "    no_increase=no_increase,\n",
    "    include_nop=include_nop,\n",
    ")\n",
    "num_xfers = quartz_context.num_xfers\n",
    "parser = quartz.PyQASMParser(context=quartz_context)\n",
    "ic(num_xfers)\n"
   ]
  },
  {
   "cell_type": "code",
   "execution_count": 3,
   "metadata": {},
   "outputs": [],
   "source": [
    "qasm_str = 'OPENQASM 2.0;\\ninclude \"qelib1.inc\";\\nqreg q[5];\\nh q[4];\\ncx q[3],q[4];\\ntdg q[4];\\ncx q[2],q[4];\\nt q[4];\\ncx q[3],q[4];\\ntdg q[4];\\ncx q[3],q[2];\\ntdg q[2];\\ncx q[3],q[2];\\nt q[3];\\ncx q[2],q[4];\\nh q[3];\\nt q[4];\\ncx q[1],q[3];\\ntdg q[3];\\ncx q[0],q[3];\\nt q[3];\\ncx q[1],q[3];\\ntdg q[3];\\ncx q[0],q[3];\\ncx q[0],q[1];\\nt q[3];\\ntdg q[1];\\nh q[3];\\ncx q[0],q[1];\\ncx q[3],q[4];\\nt q[0];\\nt q[1];\\nt q[4];\\ncx q[2],q[4];\\ntdg q[4];\\ncx q[3],q[4];\\nt q[4];\\ncx q[2],q[4];\\ntdg q[4];\\ncx q[2],q[3];\\nh q[4];\\nt q[3];\\ncx q[2],q[3];\\ntdg q[3];\\nh q[3];\\ncx q[1],q[3];\\nt q[3];\\ncx q[0],q[3];\\ntdg q[3];\\ncx q[1],q[3];\\nt q[3];\\ncx q[0],q[3];\\ncx q[0],q[1];\\ntdg q[3];\\nt q[1];\\nh q[3];\\ncx q[0],q[1];\\ntdg q[0];\\ntdg q[1];\\n'\n",
    "dag = parser.load_qasm_str(qasm_str)\n",
    "graph = quartz.PyGraph(context=quartz_context, dag=dag)"
   ]
  },
  {
   "cell_type": "code",
   "execution_count": 5,
   "metadata": {},
   "outputs": [],
   "source": [
    "dgl_g = graph.to_dgl_graph()"
   ]
  },
  {
   "cell_type": "code",
   "execution_count": 10,
   "metadata": {},
   "outputs": [
    {
     "data": {
      "text/plain": [
       "3"
      ]
     },
     "execution_count": 10,
     "metadata": {},
     "output_type": "execute_result"
    }
   ],
   "source": [
    "int(torch.multinomial(torch.Tensor([1,2,3,4]), 1))"
   ]
  },
  {
   "cell_type": "code",
   "execution_count": 7,
   "metadata": {},
   "outputs": [
    {
     "data": {
      "text/plain": [
       "int"
      ]
     },
     "execution_count": 7,
     "metadata": {},
     "output_type": "execute_result"
    }
   ],
   "source": [
    "next_graph, next_nodes = \\\n",
    "    graph.apply_xfer_with_local_state_tracking(\n",
    "        xfer=quartz_context.get_xfer_from_id(id=action.xfer),\n",
    "        node=graph.get_node_from_id(id=action.node)\n",
    "    )"
   ]
  },
  {
   "cell_type": "code",
   "execution_count": 8,
   "metadata": {},
   "outputs": [
    {
     "data": {
      "text/plain": [
       "[[3569, 3667, 3903],\n",
       " [3649, 3775, 3903],\n",
       " [3633, 3657, 3697, 3903],\n",
       " [1771, 1772, 1951, 3649, 3775, 3903],\n",
       " [1421, 3675, 3903],\n",
       " [438,\n",
       "  482,\n",
       "  483,\n",
       "  484,\n",
       "  485,\n",
       "  486,\n",
       "  487,\n",
       "  1403,\n",
       "  1404,\n",
       "  1405,\n",
       "  1406,\n",
       "  1407,\n",
       "  1408,\n",
       "  1463,\n",
       "  1665,\n",
       "  1666,\n",
       "  1667,\n",
       "  1668,\n",
       "  1669,\n",
       "  1670,\n",
       "  3649,\n",
       "  3775,\n",
       "  3903],\n",
       " [3633, 3657, 3697, 3903],\n",
       " [1339, 1340, 1984, 2244, 3599, 3600, 3649, 3775, 3903],\n",
       " [1399, 1517, 1537, 2247, 3217, 3657, 3903],\n",
       " [1016,\n",
       "  1159,\n",
       "  1581,\n",
       "  1658,\n",
       "  1831,\n",
       "  1853,\n",
       "  1895,\n",
       "  1896,\n",
       "  2655,\n",
       "  3009,\n",
       "  3534,\n",
       "  3649,\n",
       "  3672,\n",
       "  3775,\n",
       "  3903],\n",
       " [3551, 3903],\n",
       " [1951, 3649, 3775, 3903],\n",
       " [3569, 3667, 3903],\n",
       " [3675, 3899, 3903],\n",
       " [3649, 3775, 3903],\n",
       " [3633, 3657, 3697, 3903],\n",
       " [1951, 3649, 3775, 3903],\n",
       " [3675, 3903],\n",
       " [2151, 3649, 3775, 3903],\n",
       " [400, 1539, 2356, 3633, 3657, 3697, 3903],\n",
       " [438,\n",
       "  482,\n",
       "  483,\n",
       "  484,\n",
       "  485,\n",
       "  486,\n",
       "  487,\n",
       "  1245,\n",
       "  1336,\n",
       "  1403,\n",
       "  1404,\n",
       "  1405,\n",
       "  1406,\n",
       "  1407,\n",
       "  1408,\n",
       "  1665,\n",
       "  1666,\n",
       "  1667,\n",
       "  1668,\n",
       "  1669,\n",
       "  1670,\n",
       "  3649,\n",
       "  3775,\n",
       "  3903],\n",
       " [3599, 3600, 3649, 3742, 3775, 3804, 3903],\n",
       " [3903],\n",
       " [2893, 3633, 3657, 3697, 3903],\n",
       " [3603, 3695, 3903],\n",
       " [1375, 1677, 2051, 2363, 3534, 3649, 3672, 3775, 3903],\n",
       " [1951, 3649, 3775, 3903],\n",
       " [3533, 3671, 3903],\n",
       " [3533, 3671, 3903],\n",
       " [3675, 3903],\n",
       " [3649, 3775, 3903],\n",
       " [3633, 3657, 3697, 3903],\n",
       " [1771, 1772, 1951, 3649, 3775, 3903],\n",
       " [1421, 3675, 3903],\n",
       " [482,\n",
       "  483,\n",
       "  484,\n",
       "  485,\n",
       "  486,\n",
       "  487,\n",
       "  1403,\n",
       "  1404,\n",
       "  1405,\n",
       "  1406,\n",
       "  1407,\n",
       "  1408,\n",
       "  1463,\n",
       "  1665,\n",
       "  1666,\n",
       "  1667,\n",
       "  1668,\n",
       "  1669,\n",
       "  1670,\n",
       "  2049,\n",
       "  2875,\n",
       "  3649,\n",
       "  3775,\n",
       "  3903],\n",
       " [3903],\n",
       " [3431, 3432, 3520, 3638, 3649, 3775, 3903],\n",
       " [3903],\n",
       " [3675, 3903],\n",
       " [3649, 3775, 3903],\n",
       " [3439, 3903],\n",
       " [3569, 3667, 3903],\n",
       " [1951, 3649, 3775, 3903],\n",
       " [3675, 3903],\n",
       " [3649, 3775, 3903],\n",
       " [3633, 3657, 3697, 3903],\n",
       " [1771, 1772, 1951, 3649, 3775, 3903],\n",
       " [1421, 3675, 3903],\n",
       " [482,\n",
       "  483,\n",
       "  484,\n",
       "  485,\n",
       "  486,\n",
       "  487,\n",
       "  1403,\n",
       "  1404,\n",
       "  1405,\n",
       "  1406,\n",
       "  1407,\n",
       "  1408,\n",
       "  1463,\n",
       "  1665,\n",
       "  1666,\n",
       "  1667,\n",
       "  1668,\n",
       "  1669,\n",
       "  1670,\n",
       "  2049,\n",
       "  2875,\n",
       "  3649,\n",
       "  3775,\n",
       "  3903],\n",
       " [3431, 3432, 3520, 3638, 3649, 3775, 3903],\n",
       " [3903],\n",
       " [3675, 3827, 3903],\n",
       " [3903],\n",
       " [3463, 3621, 3649, 3775, 3903],\n",
       " [3903],\n",
       " [3903]]"
      ]
     },
     "execution_count": 8,
     "metadata": {},
     "output_type": "execute_result"
    }
   ],
   "source": [
    "avxfers = []\n",
    "for i in range(graph.num_nodes):\n",
    "    avxfers.append(\n",
    "        graph.available_xfers(\n",
    "            context=quartz_context,\n",
    "            node=graph.get_node_from_id(id=i)\n",
    "        )\n",
    "    )\n",
    "avxfers"
   ]
  },
  {
   "cell_type": "code",
   "execution_count": 19,
   "metadata": {},
   "outputs": [
    {
     "data": {
      "text/plain": [
       "True"
      ]
     },
     "execution_count": 19,
     "metadata": {},
     "output_type": "execute_result"
    }
   ],
   "source": [
    "qasm2 = graph.to_qasm_str()\n",
    "g2 = quartz.PyGraph(context=quartz_context, dag=parser.load_qasm_str(qasm2))\n",
    "avxfers2 = []\n",
    "for i in range(g2.num_nodes):\n",
    "    avxfers2.append(\n",
    "        g2.available_xfers(\n",
    "            context=quartz_context,\n",
    "            node=g2.get_node_from_id(id=i)\n",
    "        )\n",
    "    )\n",
    "avxfers2 == avxfers"
   ]
  },
  {
   "cell_type": "code",
   "execution_count": 30,
   "metadata": {},
   "outputs": [
    {
     "ename": "ValueError",
     "evalue": "max() arg is an empty sequence",
     "output_type": "error",
     "traceback": [
      "\u001b[0;31m---------------------------------------------------------------------------\u001b[0m",
      "\u001b[0;31mValueError\u001b[0m                                Traceback (most recent call last)",
      "\u001b[1;32m/home/jinjun/quartz/experiment/dqn/test.ipynb Cell 8'\u001b[0m in \u001b[0;36m<cell line: 1>\u001b[0;34m()\u001b[0m\n\u001b[0;32m----> <a href='vscode-notebook-cell://ssh-remote%2Bec2-44-200-22-73.compute-1.amazonaws.com/home/jinjun/quartz/experiment/dqn/test.ipynb#ch0000007vscode-remote?line=0'>1</a>\u001b[0m \u001b[39mmax\u001b[39;49m([])\n",
      "\u001b[0;31mValueError\u001b[0m: max() arg is an empty sequence"
     ]
    }
   ],
   "source": [
    "max([])"
   ]
  }
 ],
 "metadata": {
  "interpreter": {
   "hash": "727000391658140de014f09a2cefd280fa828086dc8cb8d0493b0ec43fb35302"
  },
  "kernelspec": {
   "display_name": "Python 3.10.4 ('quartz')",
   "language": "python",
   "name": "python3"
  },
  "language_info": {
   "codemirror_mode": {
    "name": "ipython",
    "version": 3
   },
   "file_extension": ".py",
   "mimetype": "text/x-python",
   "name": "python",
   "nbconvert_exporter": "python",
   "pygments_lexer": "ipython3",
   "version": "3.10.4"
  },
  "orig_nbformat": 4
 },
 "nbformat": 4,
 "nbformat_minor": 2
}
