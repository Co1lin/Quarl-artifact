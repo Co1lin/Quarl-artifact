{
 "cells": [
  {
   "cell_type": "code",
   "execution_count": 1,
   "metadata": {},
   "outputs": [
    {
     "name": "stderr",
     "output_type": "stream",
     "text": [
      "/home/jinjun/miniconda3/envs/quartz/lib/python3.10/site-packages/tqdm/auto.py:22: TqdmWarning: IProgress not found. Please update jupyter and ipywidgets. See https://ipywidgets.readthedocs.io/en/stable/user_install.html\n",
      "  from .autonotebook import tqdm as notebook_tqdm\n"
     ]
    }
   ],
   "source": [
    "import quartz"
   ]
  },
  {
   "cell_type": "code",
   "execution_count": 2,
   "metadata": {},
   "outputs": [],
   "source": [
    "gate_set = ['h', 'cx', 't', 'tdg']\n",
    "ecc_file = 'bfs_verified_simplified.json'\n",
    "no_increase = True\n",
    "include_nop = True\n",
    "quartz_context = quartz.QuartzContext(\n",
    "    gate_set=gate_set,\n",
    "    filename=ecc_file,\n",
    "    # TODO  we need to include xfers that lead to gate increase when training?\n",
    "    # we may exclude them when generating the dataset for pre-training\n",
    "    # TODO  to make the task easier, we exclude those xfers currently\n",
    "    no_increase=no_increase,\n",
    "    include_nop=include_nop,\n",
    ")\n",
    "num_xfers = quartz_context.num_xfers\n",
    "parser = quartz.PyQASMParser(context=quartz_context)\n"
   ]
  },
  {
   "cell_type": "code",
   "execution_count": 3,
   "metadata": {},
   "outputs": [],
   "source": [
    "qasm_str = 'OPENQASM 2.0;\\ninclude \"qelib1.inc\";\\nqreg q[5];\\nh q[4];\\ncx q[3],q[4];\\ntdg q[4];\\ncx q[2],q[4];\\nt q[4];\\ncx q[3],q[4];\\ntdg q[4];\\ncx q[3],q[2];\\ntdg q[2];\\ncx q[3],q[2];\\nt q[3];\\ncx q[2],q[4];\\nh q[3];\\nt q[4];\\ncx q[1],q[3];\\ntdg q[3];\\ncx q[0],q[3];\\nt q[3];\\ncx q[1],q[3];\\ntdg q[3];\\ncx q[0],q[3];\\ncx q[0],q[1];\\nt q[3];\\ntdg q[1];\\nh q[3];\\ncx q[0],q[1];\\ncx q[3],q[4];\\nt q[0];\\nt q[1];\\nt q[4];\\ncx q[2],q[4];\\ntdg q[4];\\ncx q[3],q[4];\\nt q[4];\\ncx q[2],q[4];\\ntdg q[4];\\ncx q[2],q[3];\\nh q[4];\\nt q[3];\\ncx q[2],q[3];\\ntdg q[3];\\nh q[3];\\ncx q[1],q[3];\\nt q[3];\\ncx q[0],q[3];\\ntdg q[3];\\ncx q[1],q[3];\\nt q[3];\\ncx q[0],q[3];\\ncx q[0],q[1];\\ntdg q[3];\\nt q[1];\\nh q[3];\\ncx q[0],q[1];\\ntdg q[0];\\ntdg q[1];\\n'\n",
    "dag = parser.load_qasm_str(qasm_str)\n",
    "graph = quartz.PyGraph(context=quartz_context, dag=dag)"
   ]
  },
  {
   "cell_type": "code",
   "execution_count": 7,
   "metadata": {},
   "outputs": [
    {
     "data": {
      "text/plain": [
       "int"
      ]
     },
     "execution_count": 7,
     "metadata": {},
     "output_type": "execute_result"
    }
   ],
   "source": [
    "hash(graph).__class__"
   ]
  },
  {
   "cell_type": "code",
   "execution_count": 7,
   "metadata": {},
   "outputs": [
    {
     "data": {
      "text/plain": [
       "[[3164],\n",
       " [3164],\n",
       " [3164],\n",
       " [3164],\n",
       " [3164],\n",
       " [428, 429, 1117, 1118, 1304, 1305, 3164],\n",
       " [3164],\n",
       " [1072, 1526, 1709, 2896, 2897, 3164],\n",
       " [3164],\n",
       " [2839, 2958, 3164],\n",
       " [3164],\n",
       " [3164],\n",
       " [3164],\n",
       " [3164],\n",
       " [3164],\n",
       " [3164],\n",
       " [3164],\n",
       " [3164],\n",
       " [3164],\n",
       " [3164],\n",
       " [428, 429, 1117, 1118, 1304, 1305, 3164],\n",
       " [2896, 2897, 3016, 3072, 3164],\n",
       " [3164],\n",
       " [3164],\n",
       " [3164],\n",
       " [2839, 2958, 3164],\n",
       " [3164],\n",
       " [2838, 2957, 3164],\n",
       " [2838, 2957, 3164],\n",
       " [3164],\n",
       " [3164],\n",
       " [3164],\n",
       " [3164],\n",
       " [3164],\n",
       " [428, 429, 1117, 1118, 1304, 1305, 3164],\n",
       " [3164],\n",
       " [2746, 2747, 2826, 2929, 3164],\n",
       " [3164],\n",
       " [3164],\n",
       " [3164],\n",
       " [3164],\n",
       " [3164],\n",
       " [3164],\n",
       " [3164],\n",
       " [3164],\n",
       " [3164],\n",
       " [3164],\n",
       " [3164],\n",
       " [428, 429, 1117, 1118, 1304, 1305, 3164],\n",
       " [2746, 2747, 2826, 2929, 3164],\n",
       " [3164],\n",
       " [3164],\n",
       " [3164],\n",
       " [2774, 2915, 3164],\n",
       " [3164],\n",
       " [3164]]"
      ]
     },
     "execution_count": 7,
     "metadata": {},
     "output_type": "execute_result"
    }
   ],
   "source": [
    "avxfers = []\n",
    "for i in range(graph.num_nodes):\n",
    "    avxfers.append(\n",
    "        graph.available_xfers(\n",
    "            context=quartz_context,\n",
    "            node=graph.get_node_from_id(id=i)\n",
    "        )\n",
    "    )\n",
    "avxfers"
   ]
  }
 ],
 "metadata": {
  "interpreter": {
   "hash": "727000391658140de014f09a2cefd280fa828086dc8cb8d0493b0ec43fb35302"
  },
  "kernelspec": {
   "display_name": "Python 3.10.4 ('quartz')",
   "language": "python",
   "name": "python3"
  },
  "language_info": {
   "codemirror_mode": {
    "name": "ipython",
    "version": 3
   },
   "file_extension": ".py",
   "mimetype": "text/x-python",
   "name": "python",
   "nbconvert_exporter": "python",
   "pygments_lexer": "ipython3",
   "version": "3.10.4"
  },
  "orig_nbformat": 4
 },
 "nbformat": 4,
 "nbformat_minor": 2
}
