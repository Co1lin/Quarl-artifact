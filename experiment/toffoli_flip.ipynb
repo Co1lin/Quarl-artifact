{
 "cells": [
  {
   "cell_type": "code",
   "execution_count": 2,
   "metadata": {},
   "outputs": [
    {
     "data": {
      "text/plain": [
       "'OPENQASM 2.0;\\ninclude \"qelib1.inc\";\\nqreg q[7];\\nh q[6];\\ncx q[5],q[6];\\nrz(pi*-0.250000) q[6];\\ncx q[3],q[6];\\nrz(pi*0.250000) q[6];\\ncx q[5],q[6];\\nrz(pi*-0.250000) q[6];\\ncx q[3],q[6];\\ncx q[3],q[5];\\nrz(pi*0.250000) q[6];\\nrz(pi*-0.250000) q[5];\\ncx q[3],q[5];\\nrz(pi*0.250000) q[3];\\nrz(pi*0.250000) q[5];\\nh q[5];\\ncx q[4],q[5];\\nrz(pi*-0.250000) q[5];\\ncx q[2],q[5];\\nrz(pi*0.250000) q[5];\\ncx q[4],q[5];\\nrz(pi*-0.250000) q[5];\\ncx q[2],q[5];\\ncx q[2],q[4];\\nrz(pi*0.250000) q[5];\\nrz(pi*-0.250000) q[4];\\ncx q[2],q[4];\\nrz(pi*0.250000) q[2];\\nrz(pi*0.250000) q[4];\\nh q[4];\\ncx q[1],q[4];\\nrz(pi*-0.250000) q[4];\\ncx q[0],q[4];\\nrz(pi*0.250000) q[4];\\ncx q[1],q[4];\\nrz(pi*-0.250000) q[4];\\ncx q[0],q[4];\\ncx q[0],q[1];\\nrz(pi*0.250000) q[4];\\nrz(pi*-0.250000) q[1];\\nh q[4];\\ncx q[0],q[1];\\ncx q[4],q[5];\\nrz(pi*0.250000) q[0];\\nrz(pi*0.250000) q[1];\\nrz(pi*0.250000) q[5];\\ncx q[2],q[5];\\nrz(pi*-0.250000) q[5];\\ncx q[4],q[5];\\nrz(pi*0.250000) q[5];\\ncx q[2],q[5];\\ncx q[2],q[4];\\nrz(pi*-0.250000) q[5];\\nrz(pi*0.250000) q[4];\\nh q[5];\\ncx q[2],q[4];\\ncx q[5],q[6];\\nrz(pi*-0.250000) q[2];\\nrz(pi*-0.250000) q[4];\\nrz(pi*0.250000) q[6];\\ncx q[3],q[6];\\nrz(pi*-0.250000) q[6];\\ncx q[5],q[6];\\nrz(pi*0.250000) q[6];\\ncx q[3],q[6];\\ncx q[3],q[5];\\nrz(pi*-0.250000) q[6];\\nrz(pi*0.250000) q[5];\\nh q[6];\\ncx q[3],q[5];\\nrz(pi*-0.250000) q[3];\\nrz(pi*-0.250000) q[5];\\nh q[5];\\ncx q[4],q[5];\\nrz(pi*-0.250000) q[5];\\ncx q[2],q[5];\\nrz(pi*0.250000) q[5];\\ncx q[4],q[5];\\nrz(pi*-0.250000) q[5];\\ncx q[2],q[5];\\ncx q[2],q[4];\\nrz(pi*0.250000) q[5];\\nrz(pi*-0.250000) q[4];\\ncx q[2],q[4];\\nrz(pi*0.250000) q[2];\\nrz(pi*0.250000) q[4];\\nh q[4];\\ncx q[1],q[4];\\nrz(pi*0.250000) q[4];\\ncx q[0],q[4];\\nrz(pi*-0.250000) q[4];\\ncx q[1],q[4];\\nrz(pi*0.250000) q[4];\\ncx q[0],q[4];\\ncx q[0],q[1];\\nrz(pi*-0.250000) q[4];\\nrz(pi*0.250000) q[1];\\nh q[4];\\ncx q[0],q[1];\\ncx q[4],q[5];\\nrz(pi*-0.250000) q[0];\\nrz(pi*-0.250000) q[1];\\nrz(pi*0.250000) q[5];\\ncx q[2],q[5];\\nrz(pi*-0.250000) q[5];\\ncx q[4],q[5];\\nrz(pi*0.250000) q[5];\\ncx q[2],q[5];\\ncx q[2],q[4];\\nrz(pi*-0.250000) q[5];\\nrz(pi*0.250000) q[4];\\nh q[5];\\ncx q[2],q[4];\\nrz(pi*-0.250000) q[2];\\nrz(pi*-0.250000) q[4];\\n'"
      ]
     },
     "execution_count": 2,
     "metadata": {},
     "output_type": "execute_result"
    }
   ],
   "source": [
    "qasm_str = None\n",
    "with open('t_tdg_h_cx_toffoli_flip_dataset/barenco_tof_4.qasm.toffoli_flip', 'r') as f:\n",
    "    qasm_str = f.read()\n",
    "qasm_str"
   ]
  },
  {
   "cell_type": "code",
   "execution_count": 8,
   "metadata": {},
   "outputs": [
    {
     "data": {
      "text/plain": [
       "['OPENQASM 2.0;',\n",
       " 'include \"qelib1.inc\";',\n",
       " 'qreg q[7];',\n",
       " 'h q[6];',\n",
       " 'cx q[5],q[6];',\n",
       " 'rz(pi*-0.250000) q[6];',\n",
       " 'cx q[3],q[6];',\n",
       " 'rz(pi*0.250000) q[6];',\n",
       " 'cx q[5],q[6];',\n",
       " 'rz(pi*-0.250000) q[6];',\n",
       " 'cx q[3],q[6];',\n",
       " 'cx q[3],q[5];',\n",
       " 'rz(pi*0.250000) q[6];',\n",
       " 'rz(pi*-0.250000) q[5];',\n",
       " 'cx q[3],q[5];',\n",
       " 'rz(pi*0.250000) q[3];',\n",
       " 'rz(pi*0.250000) q[5];',\n",
       " 'h q[5];',\n",
       " 'cx q[4],q[5];',\n",
       " 'rz(pi*-0.250000) q[5];',\n",
       " 'cx q[2],q[5];',\n",
       " 'rz(pi*0.250000) q[5];',\n",
       " 'cx q[4],q[5];',\n",
       " 'rz(pi*-0.250000) q[5];',\n",
       " 'cx q[2],q[5];',\n",
       " 'cx q[2],q[4];',\n",
       " 'rz(pi*0.250000) q[5];',\n",
       " 'rz(pi*-0.250000) q[4];',\n",
       " 'cx q[2],q[4];',\n",
       " 'rz(pi*0.250000) q[2];',\n",
       " 'rz(pi*0.250000) q[4];',\n",
       " 'h q[4];',\n",
       " 'cx q[1],q[4];',\n",
       " 'rz(pi*-0.250000) q[4];',\n",
       " 'cx q[0],q[4];',\n",
       " 'rz(pi*0.250000) q[4];',\n",
       " 'cx q[1],q[4];',\n",
       " 'rz(pi*-0.250000) q[4];',\n",
       " 'cx q[0],q[4];',\n",
       " 'cx q[0],q[1];',\n",
       " 'rz(pi*0.250000) q[4];',\n",
       " 'rz(pi*-0.250000) q[1];',\n",
       " 'h q[4];',\n",
       " 'cx q[0],q[1];',\n",
       " 'cx q[4],q[5];',\n",
       " 'rz(pi*0.250000) q[0];',\n",
       " 'rz(pi*0.250000) q[1];',\n",
       " 'rz(pi*0.250000) q[5];',\n",
       " 'cx q[2],q[5];',\n",
       " 'rz(pi*-0.250000) q[5];',\n",
       " 'cx q[4],q[5];',\n",
       " 'rz(pi*0.250000) q[5];',\n",
       " 'cx q[2],q[5];',\n",
       " 'cx q[2],q[4];',\n",
       " 'rz(pi*-0.250000) q[5];',\n",
       " 'rz(pi*0.250000) q[4];',\n",
       " 'h q[5];',\n",
       " 'cx q[2],q[4];',\n",
       " 'cx q[5],q[6];',\n",
       " 'rz(pi*-0.250000) q[2];',\n",
       " 'rz(pi*-0.250000) q[4];',\n",
       " 'rz(pi*0.250000) q[6];',\n",
       " 'cx q[3],q[6];',\n",
       " 'rz(pi*-0.250000) q[6];',\n",
       " 'cx q[5],q[6];',\n",
       " 'rz(pi*0.250000) q[6];',\n",
       " 'cx q[3],q[6];',\n",
       " 'cx q[3],q[5];',\n",
       " 'rz(pi*-0.250000) q[6];',\n",
       " 'rz(pi*0.250000) q[5];',\n",
       " 'h q[6];',\n",
       " 'cx q[3],q[5];',\n",
       " 'rz(pi*-0.250000) q[3];',\n",
       " 'rz(pi*-0.250000) q[5];',\n",
       " 'h q[5];',\n",
       " 'cx q[4],q[5];',\n",
       " 'rz(pi*-0.250000) q[5];',\n",
       " 'cx q[2],q[5];',\n",
       " 'rz(pi*0.250000) q[5];',\n",
       " 'cx q[4],q[5];',\n",
       " 'rz(pi*-0.250000) q[5];',\n",
       " 'cx q[2],q[5];',\n",
       " 'cx q[2],q[4];',\n",
       " 'rz(pi*0.250000) q[5];',\n",
       " 'rz(pi*-0.250000) q[4];',\n",
       " 'cx q[2],q[4];',\n",
       " 'rz(pi*0.250000) q[2];',\n",
       " 'rz(pi*0.250000) q[4];',\n",
       " 'h q[4];',\n",
       " 'cx q[1],q[4];',\n",
       " 'rz(pi*0.250000) q[4];',\n",
       " 'cx q[0],q[4];',\n",
       " 'rz(pi*-0.250000) q[4];',\n",
       " 'cx q[1],q[4];',\n",
       " 'rz(pi*0.250000) q[4];',\n",
       " 'cx q[0],q[4];',\n",
       " 'cx q[0],q[1];',\n",
       " 'rz(pi*-0.250000) q[4];',\n",
       " 'rz(pi*0.250000) q[1];',\n",
       " 'h q[4];',\n",
       " 'cx q[0],q[1];',\n",
       " 'cx q[4],q[5];',\n",
       " 'rz(pi*-0.250000) q[0];',\n",
       " 'rz(pi*-0.250000) q[1];',\n",
       " 'rz(pi*0.250000) q[5];',\n",
       " 'cx q[2],q[5];',\n",
       " 'rz(pi*-0.250000) q[5];',\n",
       " 'cx q[4],q[5];',\n",
       " 'rz(pi*0.250000) q[5];',\n",
       " 'cx q[2],q[5];',\n",
       " 'cx q[2],q[4];',\n",
       " 'rz(pi*-0.250000) q[5];',\n",
       " 'rz(pi*0.250000) q[4];',\n",
       " 'h q[5];',\n",
       " 'cx q[2],q[4];',\n",
       " 'rz(pi*-0.250000) q[2];',\n",
       " 'rz(pi*-0.250000) q[4];',\n",
       " '']"
      ]
     },
     "execution_count": 8,
     "metadata": {},
     "output_type": "execute_result"
    }
   ],
   "source": [
    "qasm_strs = qasm_str.split('\\n')\n",
    "for s in qasm_strs:\n",
    "    s = s.replace('rz(pi*-0.250000)', 'tdg')\n",
    "    s = s.replace('rz(pi*0.250000)', 't')\n",
    "    s += '\\n'\n",
    "with open('t_tdg_h_cx_toffoli_flip_dataset/barenco_tof_4_after_toffoli_flip.qasm', 'w') as f:\n",
    "    f.writelines(qasm_strs)\n",
    "qasm_strs "
   ]
  }
 ],
 "metadata": {
  "interpreter": {
   "hash": "96b51c792a6989d4839d314c065544fba67e314d7b530d0571cf3625bc1ceb7e"
  },
  "kernelspec": {
   "display_name": "Python 3.8.12 ('quantum')",
   "language": "python",
   "name": "python3"
  },
  "language_info": {
   "codemirror_mode": {
    "name": "ipython",
    "version": 3
   },
   "file_extension": ".py",
   "mimetype": "text/x-python",
   "name": "python",
   "nbconvert_exporter": "python",
   "pygments_lexer": "ipython3",
   "version": "3.8.12"
  },
  "orig_nbformat": 4
 },
 "nbformat": 4,
 "nbformat_minor": 2
}
